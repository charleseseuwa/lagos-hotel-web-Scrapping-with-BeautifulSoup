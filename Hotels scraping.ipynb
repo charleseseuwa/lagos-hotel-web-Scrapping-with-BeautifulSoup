{
 "cells": [
  {
   "cell_type": "markdown",
   "id": "0a8dbeee",
   "metadata": {},
   "source": [
    "The Web Scrapping will be done from [Hotels in Lagos](https://hotels.ng/hotels-in-lagos) website"
   ]
  },
  {
   "cell_type": "code",
   "execution_count": 1,
   "id": "46717b94",
   "metadata": {},
   "outputs": [],
   "source": [
    "from bs4 import BeautifulSoup"
   ]
  },
  {
   "cell_type": "code",
   "execution_count": 8,
   "id": "66485f07",
   "metadata": {},
   "outputs": [],
   "source": [
    "with open('hotels.html', 'r', encoding='utf-8') as file:\n",
    "    page = file.read()"
   ]
  },
  {
   "cell_type": "code",
   "execution_count": 9,
   "id": "86565e1b",
   "metadata": {},
   "outputs": [],
   "source": [
    "soup = BeautifulSoup(page, 'html.parser')"
   ]
  },
  {
   "cell_type": "code",
   "execution_count": 10,
   "id": "c125e468",
   "metadata": {},
   "outputs": [],
   "source": [
    "hotels = soup.select('list-hotels')"
   ]
  },
  {
   "cell_type": "code",
   "execution_count": 12,
   "id": "758b08aa",
   "metadata": {},
   "outputs": [
    {
     "ename": "IndexError",
     "evalue": "list index out of range",
     "output_type": "error",
     "traceback": [
      "\u001b[1;31m---------------------------------------------------------------------------\u001b[0m",
      "\u001b[1;31mIndexError\u001b[0m                                Traceback (most recent call last)",
      "\u001b[1;32m~\\AppData\\Local\\Temp/ipykernel_18188/1579936589.py\u001b[0m in \u001b[0;36m<module>\u001b[1;34m\u001b[0m\n\u001b[1;32m----> 1\u001b[1;33m \u001b[0mhotels\u001b[0m\u001b[1;33m[\u001b[0m\u001b[1;36m0\u001b[0m\u001b[1;33m]\u001b[0m\u001b[1;33m\u001b[0m\u001b[1;33m\u001b[0m\u001b[0m\n\u001b[0m",
      "\u001b[1;31mIndexError\u001b[0m: list index out of range"
     ]
    }
   ],
   "source": [
    "hotels[0]"
   ]
  },
  {
   "cell_type": "code",
   "execution_count": null,
   "id": "f4357831",
   "metadata": {},
   "outputs": [],
   "source": []
  }
 ],
 "metadata": {
  "kernelspec": {
   "display_name": "Python 3 (ipykernel)",
   "language": "python",
   "name": "python3"
  },
  "language_info": {
   "codemirror_mode": {
    "name": "ipython",
    "version": 3
   },
   "file_extension": ".py",
   "mimetype": "text/x-python",
   "name": "python",
   "nbconvert_exporter": "python",
   "pygments_lexer": "ipython3",
   "version": "3.9.7"
  }
 },
 "nbformat": 4,
 "nbformat_minor": 5
}
